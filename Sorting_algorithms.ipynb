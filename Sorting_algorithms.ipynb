{
  "nbformat": 4,
  "nbformat_minor": 0,
  "metadata": {
    "colab": {
      "name": "Sorting_algorithms.ipynb",
      "provenance": [],
      "authorship_tag": "ABX9TyPMsADxb5dPzdtQJ/h8GAs8",
      "include_colab_link": true
    },
    "kernelspec": {
      "name": "python3",
      "display_name": "Python 3"
    }
  },
  "cells": [
    {
      "cell_type": "markdown",
      "metadata": {
        "id": "view-in-github",
        "colab_type": "text"
      },
      "source": [
        "<a href=\"https://colab.research.google.com/github/omer-re/sorting_algorithms/blob/main/Sorting_algorithms.ipynb\" target=\"_parent\"><img src=\"https://colab.research.google.com/assets/colab-badge.svg\" alt=\"Open In Colab\"/></a>"
      ]
    },
    {
      "cell_type": "code",
      "metadata": {
        "id": "jyX0dLmfUYAV"
      },
      "source": [
        "# sorce: https://medium.com/@george.seif94/a-tour-of-the-top-5-sorting-algorithms-with-python-code-43ea9aa02889\n"
      ],
      "execution_count": null,
      "outputs": []
    },
    {
      "cell_type": "markdown",
      "metadata": {
        "id": "2oILckpWUjpf"
      },
      "source": [
        ""
      ]
    },
    {
      "cell_type": "code",
      "metadata": {
        "id": "DTUvplGmUmz9"
      },
      "source": [
        "arr=[]"
      ],
      "execution_count": null,
      "outputs": []
    },
    {
      "cell_type": "markdown",
      "metadata": {
        "id": "RbWBcqp-WoJV"
      },
      "source": [
        "**Bubble Sort**"
      ]
    },
    {
      "cell_type": "code",
      "metadata": {
        "id": "2QDRT7RmUgo7"
      },
      "source": [
        "def bubble_sort(arr):\n",
        "    def swap(i, j):\n",
        "        arr[i], arr[j] = arr[j], arr[i]\n",
        "\n",
        "    n = len(arr)\n",
        "    swapped = True\n",
        "    \n",
        "    x = -1\n",
        "    while swapped:\n",
        "        swapped = False\n",
        "        x = x + 1\n",
        "        for i in range(1, n-x):\n",
        "            if arr[i - 1] > arr[i]:\n",
        "                swap(i - 1, i)\n",
        "                swapped = True\n",
        "                    \n",
        "    return arr"
      ],
      "execution_count": null,
      "outputs": []
    },
    {
      "cell_type": "markdown",
      "metadata": {
        "id": "zVFbJpxtWmEl"
      },
      "source": [
        "**Selection Sort**"
      ]
    },
    {
      "cell_type": "code",
      "metadata": {
        "id": "kOuaTud-Uq34"
      },
      "source": [
        "def selection_sort(arr):        \n",
        "    for i in range(len(arr)):\n",
        "        minimum = i\n",
        "        \n",
        "        for j in range(i + 1, len(arr)):\n",
        "            # Select the smallest value\n",
        "            if arr[j] < arr[minimum]:\n",
        "                minimum = j\n",
        "\n",
        "        # Place it at the front of the \n",
        "        # sorted end of the array\n",
        "        arr[minimum], arr[i] = arr[i], arr[minimum]\n",
        "            \n",
        "    return arr"
      ],
      "execution_count": null,
      "outputs": []
    },
    {
      "cell_type": "markdown",
      "metadata": {
        "id": "WYam5XwEWjki"
      },
      "source": [
        "**Insertion Sort**"
      ]
    },
    {
      "cell_type": "code",
      "metadata": {
        "id": "mctjfSbSUvuo"
      },
      "source": [
        "def insertion_sort(arr):\n",
        "        \n",
        "    for i in range(len(arr)):\n",
        "        cursor = arr[i]\n",
        "        pos = i\n",
        "        \n",
        "        while pos > 0 and arr[pos - 1] > cursor:\n",
        "            # Swap the number down the list\n",
        "            arr[pos] = arr[pos - 1]\n",
        "            pos = pos - 1\n",
        "        # Break and do the final swap\n",
        "        arr[pos] = cursor\n",
        "\n",
        "    return arr"
      ],
      "execution_count": null,
      "outputs": []
    },
    {
      "cell_type": "code",
      "metadata": {
        "id": "4-yondIGVwhD"
      },
      "source": [
        "def insertion_sort(arr):\n",
        "    for i in range(1, len(a)):\n",
        "        j = i\n",
        "        print(\"moving %d:\" % a[j])\n",
        "\n",
        "        while j > 0 and a[j-1] > a[j]:\n",
        "            a[j-1], a[j] = a[j], a[j-1]\n",
        "            j -= 1\n",
        "            print(a)\n",
        "            print(\" \" + \"   \" * j + \"^---\")\n",
        "\n",
        "        print()\n",
        "\n",
        "print(\"original: \\n\" + str(arr) + \"\\n\")\n",
        "insertion_sort(arr)"
      ],
      "execution_count": null,
      "outputs": []
    },
    {
      "cell_type": "markdown",
      "metadata": {
        "id": "qx0TShMcWg5K"
      },
      "source": [
        "**Merge Sort**"
      ]
    },
    {
      "cell_type": "code",
      "metadata": {
        "id": "KVeVf2S5Uyvp"
      },
      "source": [
        "def merge_sort(arr):\n",
        "    # The last array split\n",
        "    if len(arr) <= 1:\n",
        "        return arr\n",
        "    mid = len(arr) // 2\n",
        "    # Perform merge_sort recursively on both halves\n",
        "    left, right = merge_sort(arr[:mid]), merge_sort(arr[mid:])\n",
        "\n",
        "    # Merge each side together\n",
        "    return merge(left, right, arr.copy())\n",
        "\n",
        "\n",
        "def merge(left, right, merged):\n",
        "\n",
        "    left_cursor, right_cursor = 0, 0\n",
        "    while left_cursor < len(left) and right_cursor < len(right):\n",
        "      \n",
        "        # Sort each one and place into the result\n",
        "        if left[left_cursor] <= right[right_cursor]:\n",
        "            merged[left_cursor+right_cursor]=left[left_cursor]\n",
        "            left_cursor += 1\n",
        "        else:\n",
        "            merged[left_cursor + right_cursor] = right[right_cursor]\n",
        "            right_cursor += 1\n",
        "            \n",
        "    for left_cursor in range(left_cursor, len(left)):\n",
        "        merged[left_cursor + right_cursor] = left[left_cursor]\n",
        "        \n",
        "    for right_cursor in range(right_cursor, len(right)):\n",
        "        merged[left_cursor + right_cursor] = right[right_cursor]\n",
        "\n",
        "    return merged"
      ],
      "execution_count": null,
      "outputs": []
    },
    {
      "cell_type": "markdown",
      "metadata": {
        "id": "t8-HYB5WWgCM"
      },
      "source": [
        "**quick_sort**"
      ]
    },
    {
      "cell_type": "code",
      "metadata": {
        "id": "0awun63hU1Bi"
      },
      "source": [
        "def partition(array, begin, end):\n",
        "    pivot_idx = begin\n",
        "    for i in xrange(begin+1, end+1):\n",
        "        if array[i] <= array[begin]:\n",
        "            pivot_idx += 1\n",
        "            array[i], array[pivot_idx] = array[pivot_idx], array[i]\n",
        "    array[pivot_idx], array[begin] = array[begin], array[pivot_idx]\n",
        "    return pivot_idx\n",
        "\n",
        "def quick_sort_recursion(array, begin, end):\n",
        "    if begin >= end:\n",
        "        return\n",
        "    pivot_idx = partition(array, begin, end)\n",
        "    quick_sort_recursion(array, begin, pivot_idx-1)\n",
        "    quick_sort_recursion(array, pivot_idx+1, end)\n",
        "\n",
        "def quick_sort(array, begin=0, end=None):\n",
        "    if end is None:\n",
        "        end = len(array) - 1\n",
        "    \n",
        "    return quick_sort_recursion(array, begin, end)"
      ],
      "execution_count": null,
      "outputs": []
    },
    {
      "cell_type": "markdown",
      "metadata": {
        "id": "_njxhDy8WdT1"
      },
      "source": [
        "**heapSort**"
      ]
    },
    {
      "cell_type": "code",
      "metadata": {
        "id": "xNSpES_PVSjP"
      },
      "source": [
        "\n",
        "# Python program for implementation of heap Sort \n",
        "  \n",
        "# To heapify subtree rooted at index i. \n",
        "# n is size of heap \n",
        "def heapify(arr, n, i): \n",
        "    largest = i  # Initialize largest as root \n",
        "    l = 2 * i + 1     # left = 2*i + 1 \n",
        "    r = 2 * i + 2     # right = 2*i + 2 \n",
        "  \n",
        "    # See if left child of root exists and is \n",
        "    # greater than root \n",
        "    if l < n and arr[i] < arr[l]: \n",
        "        largest = l \n",
        "  \n",
        "    # See if right child of root exists and is \n",
        "    # greater than root \n",
        "    if r < n and arr[largest] < arr[r]: \n",
        "        largest = r \n",
        "  \n",
        "    # Change root, if needed \n",
        "    if largest != i: \n",
        "        arr[i],arr[largest] = arr[largest],arr[i]  # swap \n",
        "  \n",
        "        # Heapify the root. \n",
        "        heapify(arr, n, largest) \n",
        "  \n",
        "# The main function to sort an array of given size \n",
        "def heapSort(arr): \n",
        "    n = len(arr) \n",
        "  \n",
        "    # Build a maxheap. \n",
        "    # Since last parent will be at ((n//2)-1) we can start at that location. \n",
        "    for i in range(n // 2 - 1, -1, -1): \n",
        "        heapify(arr, n, i) \n",
        "  \n",
        "    # One by one extract elements \n",
        "    for i in range(n-1, 0, -1): \n",
        "        arr[i], arr[0] = arr[0], arr[i]   # swap \n",
        "        heapify(arr, i, 0) \n",
        "  \n",
        "# Driver code to test above \n",
        " \n",
        "heapSort(arr) \n",
        "n = len(arr) \n",
        "print (\"Sorted array is\") \n",
        "for i in range(n): \n",
        "    print (\"%d\" %arr[i]), \n",
        "# This code is contributed by Mohit Kumra \n"
      ],
      "execution_count": null,
      "outputs": []
    },
    {
      "cell_type": "markdown",
      "metadata": {
        "id": "odhynNnPWXHW"
      },
      "source": [
        "**countingSort**"
      ]
    },
    {
      "cell_type": "code",
      "metadata": {
        "id": "-YGdN2S7WNpd"
      },
      "source": [
        "def countingSort(arr, exp1): \n",
        "  \n",
        "    n = len(arr) \n",
        "  \n",
        "    # The output array elements that will have sorted arr \n",
        "    output = [0] * (n) \n",
        "  \n",
        "    # initialize count array as 0 \n",
        "    count = [0] * (10) \n",
        "  \n",
        "    # Store count of occurrences in count[] \n",
        "    for i in range(0, n): \n",
        "        index = (arr[i] / exp1) \n",
        "        count[int(index % 10)] += 1\n",
        "  \n",
        "    # Change count[i] so that count[i] now contains actual \n",
        "    # position of this digit in output array \n",
        "    for i in range(1, 10): \n",
        "        count[i] += count[i - 1] \n",
        "  \n",
        "    # Build the output array \n",
        "    i = n - 1\n",
        "    while i >= 0: \n",
        "        index = (arr[i] / exp1) \n",
        "        output[count[int(index % 10)] - 1] = arr[i] \n",
        "        count[int(index % 10)] -= 1\n",
        "        i -= 1\n",
        "  \n",
        "    # Copying the output array to arr[], \n",
        "    # so that arr now contains sorted numbers \n",
        "    i = 0\n",
        "    for i in range(0, len(arr)): \n",
        "        arr[i] = output[i] \n",
        "  \n",
        "# Method to do Radix Sort \n",
        "def radixSort(arr): \n",
        "  \n",
        "    # Find the maximum number to know number of digits \n",
        "    max1 = max(arr) \n",
        "  \n",
        "    # Do counting sort for every digit. Note that instead \n",
        "    # of passing digit number, exp is passed. exp is 10^i \n",
        "    # where i is current digit number \n",
        "    exp = 1\n",
        "    while max1 / exp > 0: \n",
        "        countingSort(arr, exp) \n",
        "        exp *= 10\n",
        "  \n",
        "  \n",
        "# Driver code \n",
        "arr \n",
        "  \n",
        "# Function Call \n",
        "radixSort(arr) \n",
        "  \n",
        "for i in range(len(arr)): \n",
        "    print(arr[i]) \n",
        "  "
      ],
      "execution_count": null,
      "outputs": []
    },
    {
      "cell_type": "markdown",
      "metadata": {
        "id": "NBpRoQdsXBhC"
      },
      "source": [
        "**Kruskal**"
      ]
    },
    {
      "cell_type": "code",
      "metadata": {
        "id": "eoq3R_yTXDuD",
        "colab": {
          "base_uri": "https://localhost:8080/",
          "height": 109
        },
        "outputId": "618f7d56-5d26-4d7a-88be-aba4b55f3805"
      },
      "source": [
        "# Python program for Kruskal's algorithm to find\n",
        "# Minimum Spanning Tree of a given connected,\n",
        "# undirected and weighted graph\n",
        " \n",
        "from collections import defaultdict\n",
        " \n",
        "# Class to represent a graph\n",
        " \n",
        " \n",
        "class Graph:\n",
        " \n",
        "    def __init__(self, vertices):\n",
        "        self.V = vertices  # No. of vertices\n",
        "        self.graph = []  # default dictionary\n",
        "        # to store graph\n",
        " \n",
        "    # function to add an edge to graph\n",
        "    def addEdge(self, u, v, w):\n",
        "        self.graph.append([u, v, w])\n",
        " \n",
        "    # A utility function to find set of an element i\n",
        "    # (uses path compression technique)\n",
        "    def find(self, parent, i):\n",
        "        if parent[i] == i:\n",
        "            return i\n",
        "        return self.find(parent, parent[i])\n",
        " \n",
        "    # A function that does union of two sets of x and y\n",
        "    # (uses union by rank)\n",
        "    def union(self, parent, rank, x, y):\n",
        "        xroot = self.find(parent, x)\n",
        "        yroot = self.find(parent, y)\n",
        " \n",
        "        # Attach smaller rank tree under root of\n",
        "        # high rank tree (Union by Rank)\n",
        "        if rank[xroot] < rank[yroot]:\n",
        "            parent[xroot] = yroot\n",
        "        elif rank[xroot] > rank[yroot]:\n",
        "            parent[yroot] = xroot\n",
        " \n",
        "        # If ranks are same, then make one as root\n",
        "        # and increment its rank by one\n",
        "        else:\n",
        "            parent[yroot] = xroot\n",
        "            rank[xroot] += 1\n",
        " \n",
        "    # The main function to construct MST using Kruskal's\n",
        "        # algorithm\n",
        "    def KruskalMST(self):\n",
        " \n",
        "        result = []  # This will store the resultant MST\n",
        "         \n",
        "        # An index variable, used for sorted edges\n",
        "        i = 0\n",
        "         \n",
        "        # An index variable, used for result[]\n",
        "        e = 0\n",
        " \n",
        "        # Step 1:  Sort all the edges in \n",
        "        # non-decreasing order of their\n",
        "        # weight.  If we are not allowed to change the\n",
        "        # given graph, we can create a copy of graph\n",
        "        self.graph = sorted(self.graph, \n",
        "                            key=lambda item: item[2])\n",
        " \n",
        "        parent = []\n",
        "        rank = []\n",
        " \n",
        "        # Create V subsets with single elements\n",
        "        for node in range(self.V):\n",
        "            parent.append(node)\n",
        "            rank.append(0)\n",
        " \n",
        "        # Number of edges to be taken is equal to V-1\n",
        "        while e < self.V - 1:\n",
        " \n",
        "            # Step 2: Pick the smallest edge and increment\n",
        "            # the index for next iteration\n",
        "            u, v, w = self.graph[i]\n",
        "            i = i + 1\n",
        "            x = self.find(parent, u)\n",
        "            y = self.find(parent, v)\n",
        " \n",
        "            # If including this edge does't\n",
        "            #  cause cycle, include it in result \n",
        "            #  and increment the indexof result \n",
        "            # for next edge\n",
        "            if x != y:\n",
        "                e = e + 1\n",
        "                result.append([u, v, w])\n",
        "                self.union(parent, rank, x, y)\n",
        "            # Else discard the edge\n",
        " \n",
        "        minimumCost = 0\n",
        "        print (\"Edges in the constructed MST\")\n",
        "        for u, v, weight in result:\n",
        "            minimumCost += weight\n",
        "            print(\"%d -- %d == %d\" % (u, v, weight))\n",
        "        print(\"Minimum Spanning Tree\" , minimumCost)\n",
        " \n",
        "# Driver code\n",
        "g = Graph(4)\n",
        "g.addEdge(0, 1, 10)\n",
        "g.addEdge(0, 2, 6)\n",
        "g.addEdge(0, 3, 5)\n",
        "g.addEdge(1, 3, 15)\n",
        "g.addEdge(2, 3, 4)\n",
        " \n",
        "# Function call\n",
        "g.KruskalMST()\n",
        " "
      ],
      "execution_count": null,
      "outputs": [
        {
          "output_type": "stream",
          "text": [
            "Edges in the constructed MST\n",
            "2 -- 3 == 4\n",
            "0 -- 3 == 5\n",
            "0 -- 1 == 10\n",
            "Minimum Spanning Tree 19\n"
          ],
          "name": "stdout"
        }
      ]
    },
    {
      "cell_type": "markdown",
      "metadata": {
        "id": "SGbeXxjmC0su"
      },
      "source": [
        "**DFS**"
      ]
    },
    {
      "cell_type": "code",
      "metadata": {
        "id": "fYRtV81vC0cv",
        "colab": {
          "base_uri": "https://localhost:8080/",
          "height": 223
        },
        "outputId": "2181cc04-3c13-4665-e355-94d0d8906675"
      },
      "source": [
        "# Using a Python dictionary to act as an adjacency list\n",
        "test_graph = {\n",
        "    'S': ['C','H'],\n",
        "    'A': ['B'],\n",
        "    'B': ['E','D'],\n",
        "    'C': ['E', 'B'],\n",
        "    'D': ['E'],\n",
        "    'E': ['F', 'D'],\n",
        "    'F': ['C', 'H', 'S'],\n",
        "    'G': ['S'],\n",
        "    'H': ['G'],\n",
        "    'I': ['G', 'H']\n",
        "}\n",
        "\n",
        "visited = set() # Set to keep track of visited nodes.\n",
        "arrival_t=[]\n",
        "exit_t=[]\n",
        "\n",
        "def dfs_recursive(visited, graph,node, time,arrival_t,exit_t):\n",
        "    if node not in visited:\n",
        "        print (node)\n",
        "        visited.add(node)\n",
        "        arrival_t.append(str(node+str(time)))\n",
        "\n",
        "        for neighbour in graph[node]:\n",
        "            visited, time=dfs_recursive(visited, graph, neighbour,time+1,arrival_t,exit_t)\n",
        "            \n",
        "            exit_t.append(str(node+str(time)))\n",
        "        \n",
        "    return visited, time\n",
        "\n",
        "# Driver Code\n",
        "dfs_recursive(visited, test_graph, 'S',0,arrival_t,exit_t)\n",
        "print (visited)\n",
        "print(\"arrival time is:\",arrival_t)\n",
        "print(\"exit time is: \",exit_t)\n",
        "\n",
        "\n"
      ],
      "execution_count": null,
      "outputs": [
        {
          "output_type": "stream",
          "text": [
            "S\n",
            "C\n",
            "E\n",
            "F\n",
            "H\n",
            "G\n",
            "D\n",
            "B\n",
            "{'E', 'F', 'D', 'B', 'H', 'S', 'C', 'G'}\n",
            "arrical time is: ['S0', 'C1', 'E2', 'F3', 'H5', 'G6', 'D9', 'B11']\n",
            "exit time is:  ['F4', 'G7', 'H7', 'F7', 'F8', 'E8', 'D10', 'E10', 'C10', 'B12', 'B13', 'C13', 'S13', 'S14']\n"
          ],
          "name": "stdout"
        }
      ]
    },
    {
      "cell_type": "code",
      "metadata": {
        "id": "0N6z4Y5KyEM2",
        "colab": {
          "base_uri": "https://localhost:8080/",
          "height": 342
        },
        "outputId": "9964f1e0-ac13-4316-9c00-be0285955c84"
      },
      "source": [
        ""
      ],
      "execution_count": null,
      "outputs": [
        {
          "output_type": "error",
          "ename": "TypeError",
          "evalue": "ignored",
          "traceback": [
            "\u001b[0;31m---------------------------------------------------------------------------\u001b[0m",
            "\u001b[0;31mTypeError\u001b[0m                                 Traceback (most recent call last)",
            "\u001b[0;32m<ipython-input-53-441ba09307ac>\u001b[0m in \u001b[0;36m<module>\u001b[0;34m()\u001b[0m\n\u001b[1;32m     45\u001b[0m \u001b[0;34m\u001b[0m\u001b[0m\n\u001b[1;32m     46\u001b[0m \u001b[0;34m\u001b[0m\u001b[0m\n\u001b[0;32m---> 47\u001b[0;31m \u001b[0mouterLoop\u001b[0m\u001b[0;34m(\u001b[0m\u001b[0mtest_graph\u001b[0m\u001b[0;34m,\u001b[0m\u001b[0;34m'S'\u001b[0m\u001b[0;34m)\u001b[0m\u001b[0;34m\u001b[0m\u001b[0;34m\u001b[0m\u001b[0m\n\u001b[0m",
            "\u001b[0;32m<ipython-input-53-441ba09307ac>\u001b[0m in \u001b[0;36mouterLoop\u001b[0;34m(hGraph, N)\u001b[0m\n\u001b[1;32m      1\u001b[0m \u001b[0mcount\u001b[0m \u001b[0;34m=\u001b[0m \u001b[0;36m0\u001b[0m\u001b[0;34m\u001b[0m\u001b[0;34m\u001b[0m\u001b[0m\n\u001b[1;32m      2\u001b[0m \u001b[0;32mdef\u001b[0m \u001b[0mouterLoop\u001b[0m\u001b[0;34m(\u001b[0m\u001b[0mhGraph\u001b[0m\u001b[0;34m,\u001b[0m \u001b[0mN\u001b[0m\u001b[0;34m)\u001b[0m\u001b[0;34m:\u001b[0m\u001b[0;34m\u001b[0m\u001b[0;34m\u001b[0m\u001b[0m\n\u001b[0;32m----> 3\u001b[0;31m     \u001b[0mexplored\u001b[0m    \u001b[0;34m=\u001b[0m \u001b[0;34m[\u001b[0m\u001b[0;32mFalse\u001b[0m \u001b[0;32mfor\u001b[0m \u001b[0miii\u001b[0m \u001b[0;32min\u001b[0m \u001b[0mrange\u001b[0m\u001b[0;34m(\u001b[0m\u001b[0mN\u001b[0m\u001b[0;34m+\u001b[0m\u001b[0;36m1\u001b[0m\u001b[0;34m)\u001b[0m\u001b[0;34m]\u001b[0m\u001b[0;34m\u001b[0m\u001b[0;34m\u001b[0m\u001b[0m\n\u001b[0m\u001b[1;32m      4\u001b[0m     \u001b[0mfinish\u001b[0m      \u001b[0;34m=\u001b[0m \u001b[0;34m{\u001b[0m\u001b[0;34m}\u001b[0m\u001b[0;34m\u001b[0m\u001b[0;34m\u001b[0m\u001b[0m\n\u001b[1;32m      5\u001b[0m \u001b[0;34m\u001b[0m\u001b[0m\n",
            "\u001b[0;31mTypeError\u001b[0m: must be str, not int"
          ]
        }
      ]
    },
    {
      "cell_type": "code",
      "metadata": {
        "id": "NoOAILC_ivrb"
      },
      "source": [
        "def dfs_iterative(graph, start_vertex, arrival_time,exit_time):\n",
        "    visited = set()\n",
        "    time=0\n",
        "    traversal = []\n",
        "    \n",
        "    stack = [start_vertex]\n",
        "    while stack:\n",
        "        vertex = stack.pop()\n",
        "        if vertex not in visited:\n",
        "            arrival_time.append(str(vertex+str(time)))\n",
        "            visited.add(vertex)\n",
        "            traversal.append(vertex)\n",
        "            # add vertex in the same order as visited\n",
        "            stack.extend(reversed(graph[vertex]))\n",
        "        else:\n",
        "            exit_time.append(str(vertex+str(time)))\n",
        "        time=time+1\n",
        "    return traversal\n",
        "\n",
        "arrival_time=[]\n",
        "exit_time=[]\n",
        "print(\"DFS:\")\n",
        "\n",
        "print(dfs_iterative(test_graph, 'S',arrival_time,exit_time))\n",
        "print(arrival_time)\n",
        "print(exit_time)\n"
      ],
      "execution_count": null,
      "outputs": []
    },
    {
      "cell_type": "markdown",
      "metadata": {
        "id": "Oe_yPdYaDQJa"
      },
      "source": [
        "**BFS**\n"
      ]
    },
    {
      "cell_type": "code",
      "metadata": {
        "id": "bdLrh-VQDRhC",
        "colab": {
          "base_uri": "https://localhost:8080/",
          "height": 54
        },
        "outputId": "81c05f44-51ae-40af-a2fd-9b89e3694069"
      },
      "source": [
        "#BFS method to traverse graph\n",
        "\n",
        "def bfs(graph, start):\n",
        "    path = []\n",
        "\n",
        "    arrival_time=[]\n",
        "    time=0\n",
        "\n",
        "    queue = [start]\n",
        "    while queue:\n",
        "        vertex = queue.pop(0)\n",
        "        if vertex not in path:\n",
        "            arrival_time.append(str(vertex+str(time)))\n",
        "            path.append(vertex)\n",
        "            queue.extend(graph[vertex])\n",
        "        time=time+1\n",
        "    print (arrival_time)\n",
        "    return path\n",
        "\n",
        "\n",
        "test_graph = {\n",
        "    'S': ['C','H'],\n",
        "    'A': ['B'],\n",
        "    'B': ['E','D'],\n",
        "    'C': ['E', 'B'],\n",
        "    'D': ['E'],\n",
        "    'E': ['F', 'D'],\n",
        "    'F': ['C', 'H', 'S'],\n",
        "    'G': ['S'],\n",
        "    'H': ['G'],\n",
        "    'I': ['G', 'H']\n",
        "}\n",
        "print(\"BFS:\")\n",
        "print(bfs(test_graph, 'S'))"
      ],
      "execution_count": null,
      "outputs": [
        {
          "output_type": "stream",
          "text": [
            "['S0', 'C1', 'H2', 'E3', 'B4', 'G5', 'F6', 'D7']\n",
            "['S', 'C', 'H', 'E', 'B', 'G', 'F', 'D']\n"
          ],
          "name": "stdout"
        }
      ]
    },
    {
      "cell_type": "code",
      "metadata": {
        "id": "LDKG193NY1om",
        "colab": {
          "base_uri": "https://localhost:8080/",
          "height": 411
        },
        "outputId": "4fbbef84-50eb-40c9-f8bc-c6733aa7104d"
      },
      "source": [
        "import matplotlib.pyplot as plt\n",
        "import networkx as nx\n",
        "\n",
        "# Generating sample data\n",
        "G = nx.florentine_families_graph()\n",
        "print(nx.florentine_families_graph())\n",
        "\n",
        "adjacency_matrix = nx.adjacency_matrix(G)\n",
        "\n",
        "# The actual work\n",
        "# You may prefer `nx.from_numpy_matrix`.\n",
        "G2 = nx.from_scipy_sparse_matrix(adjacency_matrix)\n",
        "nx.draw_circular(G2)\n",
        "plt.axis('equal')"
      ],
      "execution_count": null,
      "outputs": [
        {
          "output_type": "stream",
          "text": [
            "\n"
          ],
          "name": "stdout"
        },
        {
          "output_type": "execute_result",
          "data": {
            "text/plain": [
              "(-1.0770550577718507,\n",
              " 1.0989073837034216,\n",
              " -1.0939741281691853,\n",
              " 1.0939741400901142)"
            ]
          },
          "metadata": {
            "tags": []
          },
          "execution_count": 36
        },
        {
          "output_type": "display_data",
          "data": {
            "image/png": "[encoded data removed]",
            "text/plain": [
              "<Figure size 432x288 with 1 Axes>"
            ]
          },
          "metadata": {
            "tags": []
          }
        }
      ]
    },
    {
      "cell_type": "markdown",
      "metadata": {
        "id": "knKLDPtAfnrc"
      },
      "source": [
        "**DIJAKSTRA**"
      ]
    },
    {
      "cell_type": "code",
      "metadata": {
        "id": "QGkR2_TtUuHI"
      },
      "source": [
        "# Python program for Dijkstra's single \n",
        "# source shortest path algorithm. The program is \n",
        "# for adjacency matrix representation of the graph \n",
        "\n",
        "# Library for INT_MAX \n",
        "import sys \n",
        "\n",
        "class Graph(): \n",
        "\n",
        "\tdef __init__(self, vertices): \n",
        "\t\tself.V = vertices \n",
        "\t\tself.graph = [[0 for column in range(vertices)] \n",
        "\t\t\t\t\tfor row in range(vertices)] \n",
        "\n",
        "\tdef printSolution(self, dist): \n",
        "\t\tprint (\"Vertex tDistance from Source\") \n",
        "\t\tfor node in range(self.V): \n",
        "\t\t\tprint (node, \"t\", dist[node]) \n",
        "\n",
        "\t# A utility function to find the vertex with \n",
        "\t# minimum distance value, from the set of vertices \n",
        "\t# not yet included in shortest path tree \n",
        "\tdef minDistance(self, dist, sptSet): \n",
        "\n",
        "\t\t# Initilaize minimum distance for next node \n",
        "\t\tmin = sys.maxsize \n",
        "\n",
        "\t\t# Search not nearest vertex not in the \n",
        "\t\t# shortest path tree \n",
        "\t\tfor v in range(self.V): \n",
        "\t\t\tif dist[v] < min and sptSet[v] == False: \n",
        "\t\t\t\tmin = dist[v] \n",
        "\t\t\t\tmin_index = v \n",
        "\n",
        "\t\treturn min_index \n",
        "\n",
        "\t# Funtion that implements Dijkstra's single source \n",
        "\t# shortest path algorithm for a graph represented \n",
        "\t# using adjacency matrix representation \n",
        "\tdef dijkstra(self, src): \n",
        "\n",
        "\t\tdist = [sys.maxsize] * self.V \n",
        "\t\tdist[src] = 0\n",
        "\t\tsptSet = [False] * self.V \n",
        "\n",
        "\t\tfor cout in range(self.V): \n",
        "\n",
        "\t\t\t# Pick the minimum distance vertex from \n",
        "\t\t\t# the set of vertices not yet processed. \n",
        "\t\t\t# u is always equal to src in first iteration \n",
        "\t\t\tu = self.minDistance(dist, sptSet) \n",
        "\n",
        "\t\t\t# Put the minimum distance vertex in the \n",
        "\t\t\t# shotest path tree \n",
        "\t\t\tsptSet[u] = True\n",
        "\n",
        "\t\t\t# Update dist value of the adjacent vertices \n",
        "\t\t\t# of the picked vertex only if the current \n",
        "\t\t\t# distance is greater than new distance and \n",
        "\t\t\t# the vertex in not in the shotest path tree \n",
        "\t\t\tfor v in range(self.V): \n",
        "\t\t\t\tif self.graph[u][v] > 0 and \\ \n",
        "\t\t\t\t\tsptSet[v] == False and \\ \n",
        "\t\t\t\t\tdist[v] > dist[u] + self.graph[u][v]: \n",
        "\t\t\t\t\tdist[v] = dist[u] + self.graph[u][v] \n",
        "\n",
        "\t\tself.printSolution(dist) \n",
        "\n",
        "# Driver program \n",
        "g = Graph(9) \n",
        "g.graph =  [[0, 4, 0, 0, 0, 0, 0, 8, 0], \n",
        "            [4, 0, 8, 0, 0, 0, 0, 11, 0], \n",
        "            [0, 8, 0, 7, 0, 4, 0, 0, 2], \n",
        "            [0, 0, 7, 0, 9, 14, 0, 0, 0], \n",
        "            [0, 0, 0, 9, 0, 10, 0, 0, 0], \n",
        "            [0, 0, 4, 14, 10, 0, 2, 0, 0], \n",
        "            [0, 0, 0, 0, 0, 2, 0, 1, 6], \n",
        "            [8, 11, 0, 0, 0, 0, 1, 0, 7], \n",
        "            [0, 0, 2, 0, 0, 0, 6, 7, 0] \n",
        "            ]; \n",
        "\n",
        "g.dijkstra(0); \n",
        "\n",
        "# This code is contributed by Divyanshu Mehta \n"
      ],
      "execution_count": null,
      "outputs": []
    }
  ]
}